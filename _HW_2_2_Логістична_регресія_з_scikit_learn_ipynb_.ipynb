{
  "nbformat": 4,
  "nbformat_minor": 0,
  "metadata": {
    "colab": {
      "provenance": []
    },
    "kernelspec": {
      "name": "python3",
      "display_name": "Python 3"
    },
    "language_info": {
      "name": "python"
    }
  },
  "cells": [
    {
      "cell_type": "markdown",
      "source": [
        "В цьому домашньому завданні ми побудуємо рішення задачі логістичної регресії і створимо ваш перший submission на змагання на Kaggle. Усі кроки були розглянуті в лекції та містяться в ноутбуці `Логістична регресія з ScikitLearn. Повна ML задача.ipynb`, але тепер ми їх адаптуємо до іншої задачі - все як в реальному житті, коли ви знайшли код у відкритих джерелах і адаптуєте на проєкті 😉\n",
        "\n",
        "**Погнали! 🚀🚀🚀**\n",
        "\n",
        "-----------\n",
        "\n",
        "\n",
        "\n",
        "0. Завантажте дані `train.csv`, `test.csv`, `sample_submission.csv` зі змагання на Kaggle - шукайте посилання в уроці [Запрошення до участі у Kaggle-змаганні.](https://data-loves.kwiga.com/courses/machine-learning-dlia-liudei/domashnie-zavdannia-zmagannia-z-kaggle) Для завантаження потрібно долучитись до змагання (натиснути кнопку \"Join\").\n",
        "\n",
        "1. Зчитайте дані `train.csv` в pandas dataframe та розбийте їх на train і validation піднабори.\n",
        "\n",
        "  * Є такий параметр в методі train_test_split як stratified. Можливо він буде Вам корисним при розбитті даних в цій задачі. Пропоную Вам почитати про нього в документації і спробувати скористатись."
      ],
      "metadata": {
        "id": "gJ2A6t3mdEed"
      }
    },
    {
      "cell_type": "markdown",
      "source": [
        "✅ Завантажуємо train.csv\n",
        "\n",
        "✅ Розбиваємо дані на train і validation (20% для валідації)\n",
        "\n",
        "✅ Стратифікує за Exited\n",
        "\n",
        "✅ Гарантує відтворюваність результатів (random_state=42)"
      ],
      "metadata": {
        "id": "4ya1OlWtQTWj"
      }
    },
    {
      "cell_type": "code",
      "source": [
        "# Імпортуємо необхідні бібліотеки\n",
        "import pandas as pd\n",
        "from sklearn.model_selection import train_test_split\n",
        "\n",
        "# Завантажуємо CSV файл у DataFrame\n",
        "# Заміни шлях на свій, якщо в Colab буде:\n",
        "# from google.colab import files\n",
        "# uploaded = files.upload()\n",
        "# df = pd.read_csv('train.csv')\n",
        "df = pd.read_csv('/content/train.csv')  # стандартний шлях у Colab після завантаження\n",
        "\n",
        "# Виведемо перші рядки для перевірки\n",
        "print(df.head())\n",
        "\n",
        "# Окремо виділимо ознаки X та цільову змінну y\n",
        "X = df.drop(columns=['Exited'])  # всі колонки крім цільової\n",
        "y = df['Exited']                 # цільова змінна\n",
        "\n",
        "# Розіб'ємо на train і validation, використовуючи стратифікацію за цільовою змінною\n",
        "X_train, X_val, y_train, y_val = train_test_split(\n",
        "    X, y,\n",
        "    test_size=0.2,       # 20% даних у validation\n",
        "    stratify=y,          # щоб зберігався розподіл класів\n",
        "    random_state=42      # для повторюваності результатів\n",
        ")\n",
        "\n",
        "# Об'єднаємо X і y назад у датафрейми для train та validation\n",
        "train_data = X_train.copy()\n",
        "train_data['Exited'] = y_train\n",
        "\n",
        "val_data = X_val.copy()\n",
        "val_data['Exited'] = y_val\n",
        "\n",
        "# Подивимося розмір отриманих піднаборів\n",
        "print(f\"Train shape: {train_data.shape}\")\n",
        "print(f\"Validation shape: {val_data.shape}\")\n",
        "\n",
        "# І розподіл класів для контролю\n",
        "print(\"Train class distribution:\")\n",
        "print(train_data['Exited'].value_counts(normalize=True))\n",
        "\n",
        "print(\"\\nValidation class distribution:\")\n",
        "print(val_data['Exited'].value_counts(normalize=True))"
      ],
      "metadata": {
        "id": "2J2bS-kL2cHV",
        "colab": {
          "base_uri": "https://localhost:8080/"
        },
        "outputId": "0f48f3e0-18bd-49a8-f0fe-1fdb34996e9e"
      },
      "execution_count": 1,
      "outputs": [
        {
          "output_type": "stream",
          "name": "stdout",
          "text": [
            "   id  CustomerId   Surname  CreditScore Geography  Gender   Age  Tenure  \\\n",
            "0   0  15779985.0   Nwankwo        678.0    France    Male  29.0     4.0   \n",
            "1   1  15650086.0     Ch'in        687.0    France  Female  34.0     1.0   \n",
            "2   2  15733602.0  Thompson        682.0    France  Female  52.0     6.0   \n",
            "3   3  15645794.0   Macleod        753.0   Germany    Male  44.0     6.0   \n",
            "4   4  15633840.0      Hsia        544.0   Germany  Female  55.0     0.0   \n",
            "\n",
            "     Balance  NumOfProducts  HasCrCard  IsActiveMember  EstimatedSalary  \\\n",
            "0       0.00            3.0        1.0             0.0        180626.36   \n",
            "1       0.00            2.0        0.0             1.0         63736.17   \n",
            "2       0.00            3.0        0.0             0.0        179655.87   \n",
            "3   83347.25            2.0        1.0             0.0        161407.48   \n",
            "4  107747.57            1.0        1.0             0.0        176580.86   \n",
            "\n",
            "   Exited  \n",
            "0     0.0  \n",
            "1     0.0  \n",
            "2     1.0  \n",
            "3     0.0  \n",
            "4     1.0  \n",
            "Train shape: (12000, 14)\n",
            "Validation shape: (3000, 14)\n",
            "Train class distribution:\n",
            "Exited\n",
            "0.0    0.7965\n",
            "1.0    0.2035\n",
            "Name: proportion, dtype: float64\n",
            "\n",
            "Validation class distribution:\n",
            "Exited\n",
            "0.0    0.796667\n",
            "1.0    0.203333\n",
            "Name: proportion, dtype: float64\n"
          ]
        }
      ]
    },
    {
      "cell_type": "markdown",
      "source": [
        "**📝 Висновок**\n",
        "\n",
        "Ми визначили назви колонок для вхідних ознак (input_cols) та назву цільової колонки (target_col).\n",
        "На їх основі створили окремі набори даних для навчання і валідації: train_inputs, train_targets, val_inputs, val_targets.\n",
        "\n",
        "Це дозволяє:\n",
        "\n",
        "✅ Чітко розділити вхідні дані та цільову змінну.\n",
        "\n",
        "✅ Легко передати їх у модель машинного навчання для навчання та перевірки.\n",
        "\n",
        "✅ Забезпечити правильне формування пайплайна, де вхідні дані йдуть окремо від цільових значень."
      ],
      "metadata": {
        "id": "EfL7dM4CQrfU"
      }
    },
    {
      "cell_type": "markdown",
      "source": [
        "2. Визначіть назви колонок, які сформують вхідні незалежні дані, в змінній `input_cols` та назву колонки , яка є цільовою, в змінній `target_col`. Використовуючи `input_cols` та `target_col` створіть набори даних `train_inputs`, `train_targets`, `val_inputs`, `val_targets` - де `inputs` - вхідні дані (датафрейм), `targets` - дані цільової колонки відповідного піднабору."
      ],
      "metadata": {
        "id": "YmhrsCrThfKp"
      }
    },
    {
      "cell_type": "code",
      "source": [
        "# 📌 1. Визначаємо вхідні та цільову колонку\n",
        "input_cols = [col for col in train_data.columns if col != 'Exited']  # всі, крім цільової\n",
        "target_col = 'Exited'\n",
        "\n",
        "print(\"Input columns:\", input_cols)\n",
        "print(\"Target column:\", target_col)\n",
        "\n",
        "# 📌 2. Створюємо набори даних\n",
        "# Для train\n",
        "train_inputs = train_data[input_cols]   # DataFrame тільки з ознаками\n",
        "train_targets = train_data[target_col]  # Series тільки з цільовою змінною\n",
        "\n",
        "# Для validation\n",
        "val_inputs = val_data[input_cols]\n",
        "val_targets = val_data[target_col]\n",
        "\n",
        "# 📌 3. Перевіряємо розміри отриманих наборів\n",
        "print(\"\\nTrain inputs shape:\", train_inputs.shape)\n",
        "print(\"Train targets shape:\", train_targets.shape)\n",
        "\n",
        "print(\"\\nValidation inputs shape:\", val_inputs.shape)\n",
        "print(\"Validation targets shape:\", val_targets.shape)\n",
        "\n",
        "# 📌 4. Перевіримо кілька перших рядків\n",
        "print(\"\\nFirst rows of train inputs:\")\n",
        "print(train_inputs.head())\n",
        "\n",
        "print(\"\\nFirst rows of train targets:\")\n",
        "print(train_targets.head())"
      ],
      "metadata": {
        "id": "BB1PSRP92d2y",
        "colab": {
          "base_uri": "https://localhost:8080/"
        },
        "outputId": "48d13b10-d943-4fef-8130-053eac2bd5c9"
      },
      "execution_count": 3,
      "outputs": [
        {
          "output_type": "stream",
          "name": "stdout",
          "text": [
            "Input columns: ['id', 'CustomerId', 'Surname', 'CreditScore', 'Geography', 'Gender', 'Age', 'Tenure', 'Balance', 'NumOfProducts', 'HasCrCard', 'IsActiveMember', 'EstimatedSalary']\n",
            "Target column: Exited\n",
            "\n",
            "Train inputs shape: (12000, 13)\n",
            "Train targets shape: (12000,)\n",
            "\n",
            "Validation inputs shape: (3000, 13)\n",
            "Validation targets shape: (3000,)\n",
            "\n",
            "First rows of train inputs:\n",
            "          id  CustomerId    Surname  CreditScore Geography  Gender   Age  \\\n",
            "7180    7180  15652218.0       Mays        682.0    France    Male  30.0   \n",
            "10393  10393  15592937.0     Ch'eng        684.0    France  Female  39.0   \n",
            "80        80  15774586.0      Ch'in        705.0   Germany    Male  35.0   \n",
            "3365    3365  15780572.0         K?        669.0     Spain    Male  58.0   \n",
            "12236  12236  15642099.0  Trevisani        707.0    France    Male  21.0   \n",
            "\n",
            "       Tenure    Balance  NumOfProducts  HasCrCard  IsActiveMember  \\\n",
            "7180      1.0  131394.56            1.0        1.0             1.0   \n",
            "10393     2.0  178058.06            1.0        1.0             0.0   \n",
            "80        6.0  116320.68            2.0        1.0             0.0   \n",
            "3365      0.0       0.00            2.0        0.0             1.0   \n",
            "12236     3.0       0.00            2.0        1.0             1.0   \n",
            "\n",
            "       EstimatedSalary  \n",
            "7180         143952.24  \n",
            "10393        145518.31  \n",
            "80           174431.01  \n",
            "3365          51565.98  \n",
            "12236        148564.76  \n",
            "\n",
            "First rows of train targets:\n",
            "7180     0.0\n",
            "10393    0.0\n",
            "80       0.0\n",
            "3365     0.0\n",
            "12236    0.0\n",
            "Name: Exited, dtype: float64\n"
          ]
        }
      ]
    },
    {
      "cell_type": "markdown",
      "source": [
        "**📝 Висновок**\n",
        "\n",
        "Ми визначили, які колонки будемо використовувати як вхідні ознаки (input_cols), а яку — як цільову (target_col).\n",
        "Після цього сформували окремі набори даних для навчання та валідації: train_inputs, train_targets, val_inputs і val_targets.\n",
        "Це дозволяє гнучко передавати ці дані в моделі машинного навчання, забезпечує чистий розподіл між ознаками та ціллю, і полегшує подальший аналіз чи побудову пайплайна."
      ],
      "metadata": {
        "id": "w3BJVn8ORM_P"
      }
    },
    {
      "cell_type": "markdown",
      "source": [
        "3. Визначіть з допомогою `pandas.DataFrame.select_dtypes` назви колонок, які є числовими і категоріальними. Запишіть результати в `numeric_cols` та `categorical_cols` відповідно."
      ],
      "metadata": {
        "id": "BqhiVXa-iY5P"
      }
    },
    {
      "cell_type": "code",
      "source": [
        "# 📌 Визначимо числові та категоріальні колонки за допомогою select_dtypes\n",
        "\n",
        "# Отримаємо назви колонок з числовими типами даних\n",
        "numeric_cols = train_inputs.select_dtypes(include=['int64', 'float64']).columns.tolist()\n",
        "\n",
        "# Отримаємо назви колонок з категоріальними (об'єктними) типами даних\n",
        "categorical_cols = train_inputs.select_dtypes(include=['object']).columns.tolist()\n",
        "\n",
        "# Виведемо результати\n",
        "print(\"Числові колонки (numeric_cols):\")\n",
        "print(numeric_cols)\n",
        "\n",
        "print(\"\\nКатегоріальні колонки (categorical_cols):\")\n",
        "print(categorical_cols)"
      ],
      "metadata": {
        "id": "pz6Et14-2eRH",
        "colab": {
          "base_uri": "https://localhost:8080/"
        },
        "outputId": "893fee64-36d2-41b4-fc78-5e32f65cbc2c"
      },
      "execution_count": 4,
      "outputs": [
        {
          "output_type": "stream",
          "name": "stdout",
          "text": [
            "Числові колонки (numeric_cols):\n",
            "['id', 'CustomerId', 'CreditScore', 'Age', 'Tenure', 'Balance', 'NumOfProducts', 'HasCrCard', 'IsActiveMember', 'EstimatedSalary']\n",
            "\n",
            "Категоріальні колонки (categorical_cols):\n",
            "['Surname', 'Geography', 'Gender']\n"
          ]
        }
      ]
    },
    {
      "cell_type": "markdown",
      "source": [
        "**📝 Висновок**\n",
        "\n",
        "Ми використали метод select_dtypes з pandas для автоматичного визначення типів даних у нашому наборі вхідних ознак.\n",
        "Таким чином отримали два списки:\n",
        "✅ numeric_cols — назви всіх колонок із числовими значеннями,\n",
        "✅ categorical_cols — назви всіх колонок із категоріальними (текстовими) значеннями.\n",
        "\n",
        "Це дозволить легко окремо опрацювати числові та категоріальні змінні на наступних етапах підготовки даних (наприклад, для масштабування чисел чи кодування категорій)."
      ],
      "metadata": {
        "id": "Y-Hit-nTRWem"
      }
    },
    {
      "cell_type": "markdown",
      "source": [
        "4. Зробіть підготовку даних в категоріальних і числових колонках для входу в модель виходячи з освоєного на даний момент на курсі. Варіанти пеердобробки, з якими ми вже знайомі:\n",
        "  - масштабування числових ознак,\n",
        "  - заповнення пропущених значень, якщо вони є,\n",
        "  - кодування категоріальних ознак, вилучення ознак, якщо ми вважаємо, що ці дані нерелевантні для моделі аби ми не бачимо способу як їх так закодувати, аби подати на вхід моделі.\n",
        "\n",
        "  Тут є багато варіантів, як Ви побудуєте передобробку, важливо аби\n",
        "  1) передобробка мала сенс (немає сенсу заповнювати дані константою, яку ми не зрозуміло звідки взяли)   \n",
        "  2) має бути виконана принаймні одна дія передобробки\n",
        "  3) обробка маэ бути виконана коректно і для тренувальних, і для вал. даних\n",
        "  4) чим вищий у Вас врешті вийде ROС AUC скор, тим більше шансів перемогти у змаганні :)\n",
        "\n",
        "  Опишіть рішення проведення кожного з кроків передобробки. Для чого ви його робите? По завершенню виведіть по 5 значен з `train_inputs`, `val_inputs` використовуючи `display()`."
      ],
      "metadata": {
        "id": "gz3W57xXlIO2"
      }
    },
    {
      "cell_type": "markdown",
      "source": [
        "**🚀 Рішення для передобробки**\n",
        "Ми зробимо такі кроки:\n",
        "\n",
        "1️⃣ Заповнимо пропущені значення:\n",
        "\n",
        "Для числових колонок — середнім значенням (mean).\n",
        "\n",
        "Для категоріальних — модою (найчастішим значенням).\n",
        "Це дозволить уникнути проблем через NaN під час навчання.\n",
        "\n",
        "2️⃣ Масштабуємо числові ознаки (StandardScaler).\n",
        "Щоб ознаки були порівнянні між собою і модель краще навчалася (градієнти більш стабільні).\n",
        "\n",
        "3️⃣ Закодуємо категоріальні ознаки (OneHotEncoding) для перетворення текстових категорій у числовий формат.\n",
        "\n",
        "4️⃣ Вилучимо деякі ознаки, які важко використовувати напряму:\n",
        "\n",
        "Наприклад, Surname (прізвище) і CustomerId — вони не несуть корисної інформації для прогнозування Exited."
      ],
      "metadata": {
        "id": "ucf4JUD4RjFj"
      }
    },
    {
      "cell_type": "code",
      "source": [
        "from sklearn.preprocessing import StandardScaler\n",
        "from sklearn.preprocessing import OneHotEncoder\n",
        "from sklearn.impute import SimpleImputer\n",
        "from sklearn.compose import ColumnTransformer\n",
        "from sklearn.pipeline import Pipeline\n",
        "import numpy as np\n",
        "\n",
        "# 📌 1. Вилучаємо нерелевантні ознаки\n",
        "drop_cols = ['Surname', 'CustomerId', 'id']\n",
        "train_inputs = train_inputs.drop(columns=drop_cols)\n",
        "val_inputs = val_inputs.drop(columns=drop_cols)\n",
        "\n",
        "# 🔄 Оновимо списки колонок після видалення\n",
        "numeric_cols = train_inputs.select_dtypes(include=['int64', 'float64']).columns.tolist()\n",
        "categorical_cols = train_inputs.select_dtypes(include=['object']).columns.tolist()\n",
        "\n",
        "# 📌 2. Створюємо пайплайни для числових та категоріальних даних\n",
        "\n",
        "# Для числових колонок: імпутація середнім + масштабування\n",
        "numeric_transformer = Pipeline(steps=[\n",
        "    ('imputer', SimpleImputer(strategy='mean')),\n",
        "    ('scaler', StandardScaler())\n",
        "])\n",
        "\n",
        "# Для категоріальних колонок: імпутація модою + one-hot encoding\n",
        "categorical_transformer = Pipeline(steps=[\n",
        "    ('imputer', SimpleImputer(strategy='most_frequent')),\n",
        "    ('encoder', OneHotEncoder(handle_unknown='ignore', sparse_output=False))\n",
        "])\n",
        "\n",
        "# 📌 3. Об'єднуємо все в єдиний трансформер\n",
        "preprocessor = ColumnTransformer(\n",
        "    transformers=[\n",
        "        ('num', numeric_transformer, numeric_cols),\n",
        "        ('cat', categorical_transformer, categorical_cols)\n",
        "    ])\n",
        "\n",
        "# 📌 4. Навчаємо трансформер на тренувальних даних і трансформуємо train та val\n",
        "X_train_processed = preprocessor.fit_transform(train_inputs)\n",
        "X_val_processed = preprocessor.transform(val_inputs)\n",
        "\n",
        "# 📌 5. Перетворюємо назад у DataFrame для зручності\n",
        "# Для one-hot назв колонок отримаємо з encoder\n",
        "ohe_feature_names = preprocessor.named_transformers_['cat'].named_steps['encoder'].get_feature_names_out(categorical_cols)\n",
        "final_columns = numeric_cols + list(ohe_feature_names)\n",
        "\n",
        "train_inputs_processed = pd.DataFrame(X_train_processed, columns=final_columns, index=train_inputs.index)\n",
        "val_inputs_processed = pd.DataFrame(X_val_processed, columns=final_columns, index=val_inputs.index)\n",
        "\n",
        "# 📌 6. Перевіримо результат\n",
        "from IPython.display import display\n",
        "\n",
        "print(\"Перші 5 рядків підготовлених train_inputs:\")\n",
        "display(train_inputs_processed.head())\n",
        "\n",
        "print(\"Перші 5 рядків підготовлених val_inputs:\")\n",
        "display(val_inputs_processed.head())"
      ],
      "metadata": {
        "id": "Co2hJVl32fUz",
        "colab": {
          "base_uri": "https://localhost:8080/",
          "height": 451
        },
        "outputId": "acc6cc9e-9ffa-47a8-94c3-4621141877a5"
      },
      "execution_count": 5,
      "outputs": [
        {
          "output_type": "stream",
          "name": "stdout",
          "text": [
            "Перші 5 рядків підготовлених train_inputs:\n"
          ]
        },
        {
          "output_type": "display_data",
          "data": {
            "text/plain": [
              "       CreditScore       Age    Tenure   Balance  NumOfProducts  HasCrCard  \\\n",
              "7180      0.320187 -0.944682 -1.447264  1.475464      -1.108193   0.515062   \n",
              "10393     0.347838  0.161227 -1.087792  2.254434      -1.108193   0.515062   \n",
              "80        0.638166 -0.330288  0.350096  1.223831       0.769304   0.515062   \n",
              "3365      0.140460  2.495924 -1.806736 -0.717950       0.769304  -1.941514   \n",
              "12236     0.665816 -2.050591 -0.728320 -0.717950       0.769304   0.515062   \n",
              "\n",
              "       IsActiveMember  EstimatedSalary  Geography_France  Geography_Germany  \\\n",
              "7180         1.016977         0.569450               1.0                0.0   \n",
              "10393       -0.983306         0.603803               1.0                0.0   \n",
              "80          -0.983306         1.238026               0.0                1.0   \n",
              "3365         1.016977        -1.457116               0.0                0.0   \n",
              "12236        1.016977         0.670629               1.0                0.0   \n",
              "\n",
              "       Geography_Spain  Gender_Female  Gender_Male  \n",
              "7180               0.0            0.0          1.0  \n",
              "10393              0.0            1.0          0.0  \n",
              "80                 0.0            0.0          1.0  \n",
              "3365               1.0            0.0          1.0  \n",
              "12236              0.0            0.0          1.0  "
            ],
            "text/html": [
              "\n",
              "  <div id=\"df-3c46c193-fe5f-4d80-856b-36835d93c4e0\" class=\"colab-df-container\">\n",
              "    <div>\n",
              "<style scoped>\n",
              "    .dataframe tbody tr th:only-of-type {\n",
              "        vertical-align: middle;\n",
              "    }\n",
              "\n",
              "    .dataframe tbody tr th {\n",
              "        vertical-align: top;\n",
              "    }\n",
              "\n",
              "    .dataframe thead th {\n",
              "        text-align: right;\n",
              "    }\n",
              "</style>\n",
              "<table border=\"1\" class=\"dataframe\">\n",
              "  <thead>\n",
              "    <tr style=\"text-align: right;\">\n",
              "      <th></th>\n",
              "      <th>CreditScore</th>\n",
              "      <th>Age</th>\n",
              "      <th>Tenure</th>\n",
              "      <th>Balance</th>\n",
              "      <th>NumOfProducts</th>\n",
              "      <th>HasCrCard</th>\n",
              "      <th>IsActiveMember</th>\n",
              "      <th>EstimatedSalary</th>\n",
              "      <th>Geography_France</th>\n",
              "      <th>Geography_Germany</th>\n",
              "      <th>Geography_Spain</th>\n",
              "      <th>Gender_Female</th>\n",
              "      <th>Gender_Male</th>\n",
              "    </tr>\n",
              "  </thead>\n",
              "  <tbody>\n",
              "    <tr>\n",
              "      <th>7180</th>\n",
              "      <td>0.320187</td>\n",
              "      <td>-0.944682</td>\n",
              "      <td>-1.447264</td>\n",
              "      <td>1.475464</td>\n",
              "      <td>-1.108193</td>\n",
              "      <td>0.515062</td>\n",
              "      <td>1.016977</td>\n",
              "      <td>0.569450</td>\n",
              "      <td>1.0</td>\n",
              "      <td>0.0</td>\n",
              "      <td>0.0</td>\n",
              "      <td>0.0</td>\n",
              "      <td>1.0</td>\n",
              "    </tr>\n",
              "    <tr>\n",
              "      <th>10393</th>\n",
              "      <td>0.347838</td>\n",
              "      <td>0.161227</td>\n",
              "      <td>-1.087792</td>\n",
              "      <td>2.254434</td>\n",
              "      <td>-1.108193</td>\n",
              "      <td>0.515062</td>\n",
              "      <td>-0.983306</td>\n",
              "      <td>0.603803</td>\n",
              "      <td>1.0</td>\n",
              "      <td>0.0</td>\n",
              "      <td>0.0</td>\n",
              "      <td>1.0</td>\n",
              "      <td>0.0</td>\n",
              "    </tr>\n",
              "    <tr>\n",
              "      <th>80</th>\n",
              "      <td>0.638166</td>\n",
              "      <td>-0.330288</td>\n",
              "      <td>0.350096</td>\n",
              "      <td>1.223831</td>\n",
              "      <td>0.769304</td>\n",
              "      <td>0.515062</td>\n",
              "      <td>-0.983306</td>\n",
              "      <td>1.238026</td>\n",
              "      <td>0.0</td>\n",
              "      <td>1.0</td>\n",
              "      <td>0.0</td>\n",
              "      <td>0.0</td>\n",
              "      <td>1.0</td>\n",
              "    </tr>\n",
              "    <tr>\n",
              "      <th>3365</th>\n",
              "      <td>0.140460</td>\n",
              "      <td>2.495924</td>\n",
              "      <td>-1.806736</td>\n",
              "      <td>-0.717950</td>\n",
              "      <td>0.769304</td>\n",
              "      <td>-1.941514</td>\n",
              "      <td>1.016977</td>\n",
              "      <td>-1.457116</td>\n",
              "      <td>0.0</td>\n",
              "      <td>0.0</td>\n",
              "      <td>1.0</td>\n",
              "      <td>0.0</td>\n",
              "      <td>1.0</td>\n",
              "    </tr>\n",
              "    <tr>\n",
              "      <th>12236</th>\n",
              "      <td>0.665816</td>\n",
              "      <td>-2.050591</td>\n",
              "      <td>-0.728320</td>\n",
              "      <td>-0.717950</td>\n",
              "      <td>0.769304</td>\n",
              "      <td>0.515062</td>\n",
              "      <td>1.016977</td>\n",
              "      <td>0.670629</td>\n",
              "      <td>1.0</td>\n",
              "      <td>0.0</td>\n",
              "      <td>0.0</td>\n",
              "      <td>0.0</td>\n",
              "      <td>1.0</td>\n",
              "    </tr>\n",
              "  </tbody>\n",
              "</table>\n",
              "</div>\n",
              "    <div class=\"colab-df-buttons\">\n",
              "\n",
              "  <div class=\"colab-df-container\">\n",
              "    <button class=\"colab-df-convert\" onclick=\"convertToInteractive('df-3c46c193-fe5f-4d80-856b-36835d93c4e0')\"\n",
              "            title=\"Convert this dataframe to an interactive table.\"\n",
              "            style=\"display:none;\">\n",
              "\n",
              "  <svg xmlns=\"http://www.w3.org/2000/svg\" height=\"24px\" viewBox=\"0 -960 960 960\">\n",
              "    <path d=\"M120-120v-720h720v720H120Zm60-500h600v-160H180v160Zm220 220h160v-160H400v160Zm0 220h160v-160H400v160ZM180-400h160v-160H180v160Zm440 0h160v-160H620v160ZM180-180h160v-160H180v160Zm440 0h160v-160H620v160Z\"/>\n",
              "  </svg>\n",
              "    </button>\n",
              "\n",
              "  <style>\n",
              "    .colab-df-container {\n",
              "      display:flex;\n",
              "      gap: 12px;\n",
              "    }\n",
              "\n",
              "    .colab-df-convert {\n",
              "      background-color: #E8F0FE;\n",
              "      border: none;\n",
              "      border-radius: 50%;\n",
              "      cursor: pointer;\n",
              "      display: none;\n",
              "      fill: #1967D2;\n",
              "      height: 32px;\n",
              "      padding: 0 0 0 0;\n",
              "      width: 32px;\n",
              "    }\n",
              "\n",
              "    .colab-df-convert:hover {\n",
              "      background-color: #E2EBFA;\n",
              "      box-shadow: 0px 1px 2px rgba(60, 64, 67, 0.3), 0px 1px 3px 1px rgba(60, 64, 67, 0.15);\n",
              "      fill: #174EA6;\n",
              "    }\n",
              "\n",
              "    .colab-df-buttons div {\n",
              "      margin-bottom: 4px;\n",
              "    }\n",
              "\n",
              "    [theme=dark] .colab-df-convert {\n",
              "      background-color: #3B4455;\n",
              "      fill: #D2E3FC;\n",
              "    }\n",
              "\n",
              "    [theme=dark] .colab-df-convert:hover {\n",
              "      background-color: #434B5C;\n",
              "      box-shadow: 0px 1px 3px 1px rgba(0, 0, 0, 0.15);\n",
              "      filter: drop-shadow(0px 1px 2px rgba(0, 0, 0, 0.3));\n",
              "      fill: #FFFFFF;\n",
              "    }\n",
              "  </style>\n",
              "\n",
              "    <script>\n",
              "      const buttonEl =\n",
              "        document.querySelector('#df-3c46c193-fe5f-4d80-856b-36835d93c4e0 button.colab-df-convert');\n",
              "      buttonEl.style.display =\n",
              "        google.colab.kernel.accessAllowed ? 'block' : 'none';\n",
              "\n",
              "      async function convertToInteractive(key) {\n",
              "        const element = document.querySelector('#df-3c46c193-fe5f-4d80-856b-36835d93c4e0');\n",
              "        const dataTable =\n",
              "          await google.colab.kernel.invokeFunction('convertToInteractive',\n",
              "                                                    [key], {});\n",
              "        if (!dataTable) return;\n",
              "\n",
              "        const docLinkHtml = 'Like what you see? Visit the ' +\n",
              "          '<a target=\"_blank\" href=https://colab.research.google.com/notebooks/data_table.ipynb>data table notebook</a>'\n",
              "          + ' to learn more about interactive tables.';\n",
              "        element.innerHTML = '';\n",
              "        dataTable['output_type'] = 'display_data';\n",
              "        await google.colab.output.renderOutput(dataTable, element);\n",
              "        const docLink = document.createElement('div');\n",
              "        docLink.innerHTML = docLinkHtml;\n",
              "        element.appendChild(docLink);\n",
              "      }\n",
              "    </script>\n",
              "  </div>\n",
              "\n",
              "\n",
              "    <div id=\"df-f6929c40-f1c5-4022-acd4-bf6cc4595d42\">\n",
              "      <button class=\"colab-df-quickchart\" onclick=\"quickchart('df-f6929c40-f1c5-4022-acd4-bf6cc4595d42')\"\n",
              "                title=\"Suggest charts\"\n",
              "                style=\"display:none;\">\n",
              "\n",
              "<svg xmlns=\"http://www.w3.org/2000/svg\" height=\"24px\"viewBox=\"0 0 24 24\"\n",
              "     width=\"24px\">\n",
              "    <g>\n",
              "        <path d=\"M19 3H5c-1.1 0-2 .9-2 2v14c0 1.1.9 2 2 2h14c1.1 0 2-.9 2-2V5c0-1.1-.9-2-2-2zM9 17H7v-7h2v7zm4 0h-2V7h2v10zm4 0h-2v-4h2v4z\"/>\n",
              "    </g>\n",
              "</svg>\n",
              "      </button>\n",
              "\n",
              "<style>\n",
              "  .colab-df-quickchart {\n",
              "      --bg-color: #E8F0FE;\n",
              "      --fill-color: #1967D2;\n",
              "      --hover-bg-color: #E2EBFA;\n",
              "      --hover-fill-color: #174EA6;\n",
              "      --disabled-fill-color: #AAA;\n",
              "      --disabled-bg-color: #DDD;\n",
              "  }\n",
              "\n",
              "  [theme=dark] .colab-df-quickchart {\n",
              "      --bg-color: #3B4455;\n",
              "      --fill-color: #D2E3FC;\n",
              "      --hover-bg-color: #434B5C;\n",
              "      --hover-fill-color: #FFFFFF;\n",
              "      --disabled-bg-color: #3B4455;\n",
              "      --disabled-fill-color: #666;\n",
              "  }\n",
              "\n",
              "  .colab-df-quickchart {\n",
              "    background-color: var(--bg-color);\n",
              "    border: none;\n",
              "    border-radius: 50%;\n",
              "    cursor: pointer;\n",
              "    display: none;\n",
              "    fill: var(--fill-color);\n",
              "    height: 32px;\n",
              "    padding: 0;\n",
              "    width: 32px;\n",
              "  }\n",
              "\n",
              "  .colab-df-quickchart:hover {\n",
              "    background-color: var(--hover-bg-color);\n",
              "    box-shadow: 0 1px 2px rgba(60, 64, 67, 0.3), 0 1px 3px 1px rgba(60, 64, 67, 0.15);\n",
              "    fill: var(--button-hover-fill-color);\n",
              "  }\n",
              "\n",
              "  .colab-df-quickchart-complete:disabled,\n",
              "  .colab-df-quickchart-complete:disabled:hover {\n",
              "    background-color: var(--disabled-bg-color);\n",
              "    fill: var(--disabled-fill-color);\n",
              "    box-shadow: none;\n",
              "  }\n",
              "\n",
              "  .colab-df-spinner {\n",
              "    border: 2px solid var(--fill-color);\n",
              "    border-color: transparent;\n",
              "    border-bottom-color: var(--fill-color);\n",
              "    animation:\n",
              "      spin 1s steps(1) infinite;\n",
              "  }\n",
              "\n",
              "  @keyframes spin {\n",
              "    0% {\n",
              "      border-color: transparent;\n",
              "      border-bottom-color: var(--fill-color);\n",
              "      border-left-color: var(--fill-color);\n",
              "    }\n",
              "    20% {\n",
              "      border-color: transparent;\n",
              "      border-left-color: var(--fill-color);\n",
              "      border-top-color: var(--fill-color);\n",
              "    }\n",
              "    30% {\n",
              "      border-color: transparent;\n",
              "      border-left-color: var(--fill-color);\n",
              "      border-top-color: var(--fill-color);\n",
              "      border-right-color: var(--fill-color);\n",
              "    }\n",
              "    40% {\n",
              "      border-color: transparent;\n",
              "      border-right-color: var(--fill-color);\n",
              "      border-top-color: var(--fill-color);\n",
              "    }\n",
              "    60% {\n",
              "      border-color: transparent;\n",
              "      border-right-color: var(--fill-color);\n",
              "    }\n",
              "    80% {\n",
              "      border-color: transparent;\n",
              "      border-right-color: var(--fill-color);\n",
              "      border-bottom-color: var(--fill-color);\n",
              "    }\n",
              "    90% {\n",
              "      border-color: transparent;\n",
              "      border-bottom-color: var(--fill-color);\n",
              "    }\n",
              "  }\n",
              "</style>\n",
              "\n",
              "      <script>\n",
              "        async function quickchart(key) {\n",
              "          const quickchartButtonEl =\n",
              "            document.querySelector('#' + key + ' button');\n",
              "          quickchartButtonEl.disabled = true;  // To prevent multiple clicks.\n",
              "          quickchartButtonEl.classList.add('colab-df-spinner');\n",
              "          try {\n",
              "            const charts = await google.colab.kernel.invokeFunction(\n",
              "                'suggestCharts', [key], {});\n",
              "          } catch (error) {\n",
              "            console.error('Error during call to suggestCharts:', error);\n",
              "          }\n",
              "          quickchartButtonEl.classList.remove('colab-df-spinner');\n",
              "          quickchartButtonEl.classList.add('colab-df-quickchart-complete');\n",
              "        }\n",
              "        (() => {\n",
              "          let quickchartButtonEl =\n",
              "            document.querySelector('#df-f6929c40-f1c5-4022-acd4-bf6cc4595d42 button');\n",
              "          quickchartButtonEl.style.display =\n",
              "            google.colab.kernel.accessAllowed ? 'block' : 'none';\n",
              "        })();\n",
              "      </script>\n",
              "    </div>\n",
              "\n",
              "    </div>\n",
              "  </div>\n"
            ],
            "application/vnd.google.colaboratory.intrinsic+json": {
              "type": "dataframe",
              "summary": "{\n  \"name\": \"display(val_inputs_processed\",\n  \"rows\": 5,\n  \"fields\": [\n    {\n      \"column\": \"CreditScore\",\n      \"properties\": {\n        \"dtype\": \"number\",\n        \"std\": 0.22433425054562015,\n        \"min\": 0.14046016590416047,\n        \"max\": 0.6658162331654692,\n        \"num_unique_values\": 5,\n        \"samples\": [\n          0.3478375608757297,\n          0.6658162331654692,\n          0.6381659138359267\n        ],\n        \"semantic_type\": \"\",\n        \"description\": \"\"\n      }\n    },\n    {\n      \"column\": \"Age\",\n      \"properties\": {\n        \"dtype\": \"number\",\n        \"std\": 1.6861728273373167,\n        \"min\": -2.05059100854066,\n        \"max\": 2.495924223498755,\n        \"num_unique_values\": 5,\n        \"samples\": [\n          0.16122721245148786,\n          -2.05059100854066,\n          -0.33028794776898945\n        ],\n        \"semantic_type\": \"\",\n        \"description\": \"\"\n      }\n    },\n    {\n      \"column\": \"Tenure\",\n      \"properties\": {\n        \"dtype\": \"number\",\n        \"std\": 0.8275665150841408,\n        \"min\": -1.8067358419601887,\n        \"max\": 0.3500956971961058,\n        \"num_unique_values\": 5,\n        \"samples\": [\n          -1.0877919955747573,\n          -0.7283200723820414,\n          0.3500956971961058\n        ],\n        \"semantic_type\": \"\",\n        \"description\": \"\"\n      }\n    },\n    {\n      \"column\": \"Balance\",\n      \"properties\": {\n        \"dtype\": \"number\",\n        \"std\": 1.3521379036969865,\n        \"min\": -0.7179500526334832,\n        \"max\": 2.254433580099375,\n        \"num_unique_values\": 4,\n        \"samples\": [\n          2.254433580099375,\n          -0.7179500526334832,\n          1.4754639358943908\n        ],\n        \"semantic_type\": \"\",\n        \"description\": \"\"\n      }\n    },\n    {\n      \"column\": \"NumOfProducts\",\n      \"properties\": {\n        \"dtype\": \"number\",\n        \"std\": 1.0283475963502704,\n        \"min\": -1.1081927527515099,\n        \"max\": 0.7693044988393583,\n        \"num_unique_values\": 2,\n        \"samples\": [\n          0.7693044988393583,\n          -1.1081927527515099\n        ],\n        \"semantic_type\": \"\",\n        \"description\": \"\"\n      }\n    },\n    {\n      \"column\": \"HasCrCard\",\n      \"properties\": {\n        \"dtype\": \"number\",\n        \"std\": 1.0986140601088774,\n        \"min\": -1.9415136769311339,\n        \"max\": 0.515062042509356,\n        \"num_unique_values\": 2,\n        \"samples\": [\n          -1.9415136769311339,\n          0.515062042509356\n        ],\n        \"semantic_type\": \"\",\n        \"description\": \"\"\n      }\n    },\n    {\n      \"column\": \"IsActiveMember\",\n      \"properties\": {\n        \"dtype\": \"number\",\n        \"std\": 1.0956003512745267,\n        \"min\": -0.9833059918764125,\n        \"max\": 1.0169774294690614,\n        \"num_unique_values\": 2,\n        \"samples\": [\n          -0.9833059918764125,\n          1.0169774294690614\n        ],\n        \"semantic_type\": \"\",\n        \"description\": \"\"\n      }\n    },\n    {\n      \"column\": \"EstimatedSalary\",\n      \"properties\": {\n        \"dtype\": \"number\",\n        \"std\": 1.032775558841708,\n        \"min\": -1.4571164497132403,\n        \"max\": 1.2380258787019236,\n        \"num_unique_values\": 5,\n        \"samples\": [\n          0.6038027673840073,\n          0.6706290754588143\n        ],\n        \"semantic_type\": \"\",\n        \"description\": \"\"\n      }\n    },\n    {\n      \"column\": \"Geography_France\",\n      \"properties\": {\n        \"dtype\": \"number\",\n        \"std\": 0.5477225575051662,\n        \"min\": 0.0,\n        \"max\": 1.0,\n        \"num_unique_values\": 2,\n        \"samples\": [\n          0.0,\n          1.0\n        ],\n        \"semantic_type\": \"\",\n        \"description\": \"\"\n      }\n    },\n    {\n      \"column\": \"Geography_Germany\",\n      \"properties\": {\n        \"dtype\": \"number\",\n        \"std\": 0.44721359549995804,\n        \"min\": 0.0,\n        \"max\": 1.0,\n        \"num_unique_values\": 2,\n        \"samples\": [\n          1.0,\n          0.0\n        ],\n        \"semantic_type\": \"\",\n        \"description\": \"\"\n      }\n    },\n    {\n      \"column\": \"Geography_Spain\",\n      \"properties\": {\n        \"dtype\": \"number\",\n        \"std\": 0.447213595499958,\n        \"min\": 0.0,\n        \"max\": 1.0,\n        \"num_unique_values\": 2,\n        \"samples\": [\n          1.0,\n          0.0\n        ],\n        \"semantic_type\": \"\",\n        \"description\": \"\"\n      }\n    },\n    {\n      \"column\": \"Gender_Female\",\n      \"properties\": {\n        \"dtype\": \"number\",\n        \"std\": 0.44721359549995804,\n        \"min\": 0.0,\n        \"max\": 1.0,\n        \"num_unique_values\": 2,\n        \"samples\": [\n          1.0,\n          0.0\n        ],\n        \"semantic_type\": \"\",\n        \"description\": \"\"\n      }\n    },\n    {\n      \"column\": \"Gender_Male\",\n      \"properties\": {\n        \"dtype\": \"number\",\n        \"std\": 0.44721359549995804,\n        \"min\": 0.0,\n        \"max\": 1.0,\n        \"num_unique_values\": 2,\n        \"samples\": [\n          0.0,\n          1.0\n        ],\n        \"semantic_type\": \"\",\n        \"description\": \"\"\n      }\n    }\n  ]\n}"
            }
          },
          "metadata": {}
        },
        {
          "output_type": "stream",
          "name": "stdout",
          "text": [
            "Перші 5 рядків підготовлених val_inputs:\n"
          ]
        },
        {
          "output_type": "display_data",
          "data": {
            "text/plain": [
              "      CreditScore       Age    Tenure   Balance  NumOfProducts  HasCrCard  \\\n",
              "6490     0.762592  1.021379 -1.447264  1.214543       4.524299   0.515062   \n",
              "3646    -0.910252  0.406985 -0.009376 -0.717950       0.769304   0.515062   \n",
              "5306     0.997620  0.038348 -1.087792 -0.717950       0.769304  -1.941514   \n",
              "652      0.195761  0.652742 -0.368848  1.881867      -1.108193  -1.941514   \n",
              "2627     0.264887 -0.944682 -0.368848 -0.717950       0.769304   0.515062   \n",
              "\n",
              "      IsActiveMember  EstimatedSalary  Geography_France  Geography_Germany  \\\n",
              "6490        1.016977        -0.988144               0.0                1.0   \n",
              "3646        1.016977        -1.750392               1.0                0.0   \n",
              "5306        1.016977        -0.022404               1.0                0.0   \n",
              "652         1.016977        -0.139723               1.0                0.0   \n",
              "2627       -0.983306         0.563519               0.0                0.0   \n",
              "\n",
              "      Geography_Spain  Gender_Female  Gender_Male  \n",
              "6490              0.0            0.0          1.0  \n",
              "3646              0.0            0.0          1.0  \n",
              "5306              0.0            1.0          0.0  \n",
              "652               0.0            1.0          0.0  \n",
              "2627              1.0            1.0          0.0  "
            ],
            "text/html": [
              "\n",
              "  <div id=\"df-82ab1c49-6bb2-47ba-a573-65c7c9174a29\" class=\"colab-df-container\">\n",
              "    <div>\n",
              "<style scoped>\n",
              "    .dataframe tbody tr th:only-of-type {\n",
              "        vertical-align: middle;\n",
              "    }\n",
              "\n",
              "    .dataframe tbody tr th {\n",
              "        vertical-align: top;\n",
              "    }\n",
              "\n",
              "    .dataframe thead th {\n",
              "        text-align: right;\n",
              "    }\n",
              "</style>\n",
              "<table border=\"1\" class=\"dataframe\">\n",
              "  <thead>\n",
              "    <tr style=\"text-align: right;\">\n",
              "      <th></th>\n",
              "      <th>CreditScore</th>\n",
              "      <th>Age</th>\n",
              "      <th>Tenure</th>\n",
              "      <th>Balance</th>\n",
              "      <th>NumOfProducts</th>\n",
              "      <th>HasCrCard</th>\n",
              "      <th>IsActiveMember</th>\n",
              "      <th>EstimatedSalary</th>\n",
              "      <th>Geography_France</th>\n",
              "      <th>Geography_Germany</th>\n",
              "      <th>Geography_Spain</th>\n",
              "      <th>Gender_Female</th>\n",
              "      <th>Gender_Male</th>\n",
              "    </tr>\n",
              "  </thead>\n",
              "  <tbody>\n",
              "    <tr>\n",
              "      <th>6490</th>\n",
              "      <td>0.762592</td>\n",
              "      <td>1.021379</td>\n",
              "      <td>-1.447264</td>\n",
              "      <td>1.214543</td>\n",
              "      <td>4.524299</td>\n",
              "      <td>0.515062</td>\n",
              "      <td>1.016977</td>\n",
              "      <td>-0.988144</td>\n",
              "      <td>0.0</td>\n",
              "      <td>1.0</td>\n",
              "      <td>0.0</td>\n",
              "      <td>0.0</td>\n",
              "      <td>1.0</td>\n",
              "    </tr>\n",
              "    <tr>\n",
              "      <th>3646</th>\n",
              "      <td>-0.910252</td>\n",
              "      <td>0.406985</td>\n",
              "      <td>-0.009376</td>\n",
              "      <td>-0.717950</td>\n",
              "      <td>0.769304</td>\n",
              "      <td>0.515062</td>\n",
              "      <td>1.016977</td>\n",
              "      <td>-1.750392</td>\n",
              "      <td>1.0</td>\n",
              "      <td>0.0</td>\n",
              "      <td>0.0</td>\n",
              "      <td>0.0</td>\n",
              "      <td>1.0</td>\n",
              "    </tr>\n",
              "    <tr>\n",
              "      <th>5306</th>\n",
              "      <td>0.997620</td>\n",
              "      <td>0.038348</td>\n",
              "      <td>-1.087792</td>\n",
              "      <td>-0.717950</td>\n",
              "      <td>0.769304</td>\n",
              "      <td>-1.941514</td>\n",
              "      <td>1.016977</td>\n",
              "      <td>-0.022404</td>\n",
              "      <td>1.0</td>\n",
              "      <td>0.0</td>\n",
              "      <td>0.0</td>\n",
              "      <td>1.0</td>\n",
              "      <td>0.0</td>\n",
              "    </tr>\n",
              "    <tr>\n",
              "      <th>652</th>\n",
              "      <td>0.195761</td>\n",
              "      <td>0.652742</td>\n",
              "      <td>-0.368848</td>\n",
              "      <td>1.881867</td>\n",
              "      <td>-1.108193</td>\n",
              "      <td>-1.941514</td>\n",
              "      <td>1.016977</td>\n",
              "      <td>-0.139723</td>\n",
              "      <td>1.0</td>\n",
              "      <td>0.0</td>\n",
              "      <td>0.0</td>\n",
              "      <td>1.0</td>\n",
              "      <td>0.0</td>\n",
              "    </tr>\n",
              "    <tr>\n",
              "      <th>2627</th>\n",
              "      <td>0.264887</td>\n",
              "      <td>-0.944682</td>\n",
              "      <td>-0.368848</td>\n",
              "      <td>-0.717950</td>\n",
              "      <td>0.769304</td>\n",
              "      <td>0.515062</td>\n",
              "      <td>-0.983306</td>\n",
              "      <td>0.563519</td>\n",
              "      <td>0.0</td>\n",
              "      <td>0.0</td>\n",
              "      <td>1.0</td>\n",
              "      <td>1.0</td>\n",
              "      <td>0.0</td>\n",
              "    </tr>\n",
              "  </tbody>\n",
              "</table>\n",
              "</div>\n",
              "    <div class=\"colab-df-buttons\">\n",
              "\n",
              "  <div class=\"colab-df-container\">\n",
              "    <button class=\"colab-df-convert\" onclick=\"convertToInteractive('df-82ab1c49-6bb2-47ba-a573-65c7c9174a29')\"\n",
              "            title=\"Convert this dataframe to an interactive table.\"\n",
              "            style=\"display:none;\">\n",
              "\n",
              "  <svg xmlns=\"http://www.w3.org/2000/svg\" height=\"24px\" viewBox=\"0 -960 960 960\">\n",
              "    <path d=\"M120-120v-720h720v720H120Zm60-500h600v-160H180v160Zm220 220h160v-160H400v160Zm0 220h160v-160H400v160ZM180-400h160v-160H180v160Zm440 0h160v-160H620v160ZM180-180h160v-160H180v160Zm440 0h160v-160H620v160Z\"/>\n",
              "  </svg>\n",
              "    </button>\n",
              "\n",
              "  <style>\n",
              "    .colab-df-container {\n",
              "      display:flex;\n",
              "      gap: 12px;\n",
              "    }\n",
              "\n",
              "    .colab-df-convert {\n",
              "      background-color: #E8F0FE;\n",
              "      border: none;\n",
              "      border-radius: 50%;\n",
              "      cursor: pointer;\n",
              "      display: none;\n",
              "      fill: #1967D2;\n",
              "      height: 32px;\n",
              "      padding: 0 0 0 0;\n",
              "      width: 32px;\n",
              "    }\n",
              "\n",
              "    .colab-df-convert:hover {\n",
              "      background-color: #E2EBFA;\n",
              "      box-shadow: 0px 1px 2px rgba(60, 64, 67, 0.3), 0px 1px 3px 1px rgba(60, 64, 67, 0.15);\n",
              "      fill: #174EA6;\n",
              "    }\n",
              "\n",
              "    .colab-df-buttons div {\n",
              "      margin-bottom: 4px;\n",
              "    }\n",
              "\n",
              "    [theme=dark] .colab-df-convert {\n",
              "      background-color: #3B4455;\n",
              "      fill: #D2E3FC;\n",
              "    }\n",
              "\n",
              "    [theme=dark] .colab-df-convert:hover {\n",
              "      background-color: #434B5C;\n",
              "      box-shadow: 0px 1px 3px 1px rgba(0, 0, 0, 0.15);\n",
              "      filter: drop-shadow(0px 1px 2px rgba(0, 0, 0, 0.3));\n",
              "      fill: #FFFFFF;\n",
              "    }\n",
              "  </style>\n",
              "\n",
              "    <script>\n",
              "      const buttonEl =\n",
              "        document.querySelector('#df-82ab1c49-6bb2-47ba-a573-65c7c9174a29 button.colab-df-convert');\n",
              "      buttonEl.style.display =\n",
              "        google.colab.kernel.accessAllowed ? 'block' : 'none';\n",
              "\n",
              "      async function convertToInteractive(key) {\n",
              "        const element = document.querySelector('#df-82ab1c49-6bb2-47ba-a573-65c7c9174a29');\n",
              "        const dataTable =\n",
              "          await google.colab.kernel.invokeFunction('convertToInteractive',\n",
              "                                                    [key], {});\n",
              "        if (!dataTable) return;\n",
              "\n",
              "        const docLinkHtml = 'Like what you see? Visit the ' +\n",
              "          '<a target=\"_blank\" href=https://colab.research.google.com/notebooks/data_table.ipynb>data table notebook</a>'\n",
              "          + ' to learn more about interactive tables.';\n",
              "        element.innerHTML = '';\n",
              "        dataTable['output_type'] = 'display_data';\n",
              "        await google.colab.output.renderOutput(dataTable, element);\n",
              "        const docLink = document.createElement('div');\n",
              "        docLink.innerHTML = docLinkHtml;\n",
              "        element.appendChild(docLink);\n",
              "      }\n",
              "    </script>\n",
              "  </div>\n",
              "\n",
              "\n",
              "    <div id=\"df-6b58caba-95c6-46b7-a6d7-6257ef34c221\">\n",
              "      <button class=\"colab-df-quickchart\" onclick=\"quickchart('df-6b58caba-95c6-46b7-a6d7-6257ef34c221')\"\n",
              "                title=\"Suggest charts\"\n",
              "                style=\"display:none;\">\n",
              "\n",
              "<svg xmlns=\"http://www.w3.org/2000/svg\" height=\"24px\"viewBox=\"0 0 24 24\"\n",
              "     width=\"24px\">\n",
              "    <g>\n",
              "        <path d=\"M19 3H5c-1.1 0-2 .9-2 2v14c0 1.1.9 2 2 2h14c1.1 0 2-.9 2-2V5c0-1.1-.9-2-2-2zM9 17H7v-7h2v7zm4 0h-2V7h2v10zm4 0h-2v-4h2v4z\"/>\n",
              "    </g>\n",
              "</svg>\n",
              "      </button>\n",
              "\n",
              "<style>\n",
              "  .colab-df-quickchart {\n",
              "      --bg-color: #E8F0FE;\n",
              "      --fill-color: #1967D2;\n",
              "      --hover-bg-color: #E2EBFA;\n",
              "      --hover-fill-color: #174EA6;\n",
              "      --disabled-fill-color: #AAA;\n",
              "      --disabled-bg-color: #DDD;\n",
              "  }\n",
              "\n",
              "  [theme=dark] .colab-df-quickchart {\n",
              "      --bg-color: #3B4455;\n",
              "      --fill-color: #D2E3FC;\n",
              "      --hover-bg-color: #434B5C;\n",
              "      --hover-fill-color: #FFFFFF;\n",
              "      --disabled-bg-color: #3B4455;\n",
              "      --disabled-fill-color: #666;\n",
              "  }\n",
              "\n",
              "  .colab-df-quickchart {\n",
              "    background-color: var(--bg-color);\n",
              "    border: none;\n",
              "    border-radius: 50%;\n",
              "    cursor: pointer;\n",
              "    display: none;\n",
              "    fill: var(--fill-color);\n",
              "    height: 32px;\n",
              "    padding: 0;\n",
              "    width: 32px;\n",
              "  }\n",
              "\n",
              "  .colab-df-quickchart:hover {\n",
              "    background-color: var(--hover-bg-color);\n",
              "    box-shadow: 0 1px 2px rgba(60, 64, 67, 0.3), 0 1px 3px 1px rgba(60, 64, 67, 0.15);\n",
              "    fill: var(--button-hover-fill-color);\n",
              "  }\n",
              "\n",
              "  .colab-df-quickchart-complete:disabled,\n",
              "  .colab-df-quickchart-complete:disabled:hover {\n",
              "    background-color: var(--disabled-bg-color);\n",
              "    fill: var(--disabled-fill-color);\n",
              "    box-shadow: none;\n",
              "  }\n",
              "\n",
              "  .colab-df-spinner {\n",
              "    border: 2px solid var(--fill-color);\n",
              "    border-color: transparent;\n",
              "    border-bottom-color: var(--fill-color);\n",
              "    animation:\n",
              "      spin 1s steps(1) infinite;\n",
              "  }\n",
              "\n",
              "  @keyframes spin {\n",
              "    0% {\n",
              "      border-color: transparent;\n",
              "      border-bottom-color: var(--fill-color);\n",
              "      border-left-color: var(--fill-color);\n",
              "    }\n",
              "    20% {\n",
              "      border-color: transparent;\n",
              "      border-left-color: var(--fill-color);\n",
              "      border-top-color: var(--fill-color);\n",
              "    }\n",
              "    30% {\n",
              "      border-color: transparent;\n",
              "      border-left-color: var(--fill-color);\n",
              "      border-top-color: var(--fill-color);\n",
              "      border-right-color: var(--fill-color);\n",
              "    }\n",
              "    40% {\n",
              "      border-color: transparent;\n",
              "      border-right-color: var(--fill-color);\n",
              "      border-top-color: var(--fill-color);\n",
              "    }\n",
              "    60% {\n",
              "      border-color: transparent;\n",
              "      border-right-color: var(--fill-color);\n",
              "    }\n",
              "    80% {\n",
              "      border-color: transparent;\n",
              "      border-right-color: var(--fill-color);\n",
              "      border-bottom-color: var(--fill-color);\n",
              "    }\n",
              "    90% {\n",
              "      border-color: transparent;\n",
              "      border-bottom-color: var(--fill-color);\n",
              "    }\n",
              "  }\n",
              "</style>\n",
              "\n",
              "      <script>\n",
              "        async function quickchart(key) {\n",
              "          const quickchartButtonEl =\n",
              "            document.querySelector('#' + key + ' button');\n",
              "          quickchartButtonEl.disabled = true;  // To prevent multiple clicks.\n",
              "          quickchartButtonEl.classList.add('colab-df-spinner');\n",
              "          try {\n",
              "            const charts = await google.colab.kernel.invokeFunction(\n",
              "                'suggestCharts', [key], {});\n",
              "          } catch (error) {\n",
              "            console.error('Error during call to suggestCharts:', error);\n",
              "          }\n",
              "          quickchartButtonEl.classList.remove('colab-df-spinner');\n",
              "          quickchartButtonEl.classList.add('colab-df-quickchart-complete');\n",
              "        }\n",
              "        (() => {\n",
              "          let quickchartButtonEl =\n",
              "            document.querySelector('#df-6b58caba-95c6-46b7-a6d7-6257ef34c221 button');\n",
              "          quickchartButtonEl.style.display =\n",
              "            google.colab.kernel.accessAllowed ? 'block' : 'none';\n",
              "        })();\n",
              "      </script>\n",
              "    </div>\n",
              "\n",
              "    </div>\n",
              "  </div>\n"
            ],
            "application/vnd.google.colaboratory.intrinsic+json": {
              "type": "dataframe",
              "summary": "{\n  \"name\": \"display(val_inputs_processed\",\n  \"rows\": 5,\n  \"fields\": [\n    {\n      \"column\": \"CreditScore\",\n      \"properties\": {\n        \"dtype\": \"number\",\n        \"std\": 0.7365969300482768,\n        \"min\": -0.910251968618457,\n        \"max\": 0.99762006511998,\n        \"num_unique_values\": 5,\n        \"samples\": [\n          -0.910251968618457,\n          0.26488660288710203,\n          0.99762006511998\n        ],\n        \"semantic_type\": \"\",\n        \"description\": \"\"\n      }\n    },\n    {\n      \"column\": \"Age\",\n      \"properties\": {\n        \"dtype\": \"number\",\n        \"std\": 0.7504665547469763,\n        \"min\": -0.944681898044586,\n        \"max\": 1.021378742837323,\n        \"num_unique_values\": 5,\n        \"samples\": [\n          0.4069847925617265,\n          -0.944681898044586,\n          0.038348422396368535\n        ],\n        \"semantic_type\": \"\",\n        \"description\": \"\"\n      }\n    },\n    {\n      \"column\": \"Tenure\",\n      \"properties\": {\n        \"dtype\": \"number\",\n        \"std\": 0.5906726433672448,\n        \"min\": -1.447263918767473,\n        \"max\": -0.009376225996609968,\n        \"num_unique_values\": 4,\n        \"samples\": [\n          -0.009376225996609968,\n          -0.36884814918932574,\n          -1.447263918767473\n        ],\n        \"semantic_type\": \"\",\n        \"description\": \"\"\n      }\n    },\n    {\n      \"column\": \"Balance\",\n      \"properties\": {\n        \"dtype\": \"number\",\n        \"std\": 1.263448645633877,\n        \"min\": -0.7179500526334832,\n        \"max\": 1.8818666228359875,\n        \"num_unique_values\": 3,\n        \"samples\": [\n          1.2145430342981003,\n          -0.7179500526334832,\n          1.8818666228359875\n        ],\n        \"semantic_type\": \"\",\n        \"description\": \"\"\n      }\n    },\n    {\n      \"column\": \"NumOfProducts\",\n      \"properties\": {\n        \"dtype\": \"number\",\n        \"std\": 2.0566951927005412,\n        \"min\": -1.1081927527515099,\n        \"max\": 4.5242990020210945,\n        \"num_unique_values\": 3,\n        \"samples\": [\n          4.5242990020210945,\n          0.7693044988393583,\n          -1.1081927527515099\n        ],\n        \"semantic_type\": \"\",\n        \"description\": \"\"\n      }\n    },\n    {\n      \"column\": \"HasCrCard\",\n      \"properties\": {\n        \"dtype\": \"number\",\n        \"std\": 1.3455219357570387,\n        \"min\": -1.9415136769311339,\n        \"max\": 0.515062042509356,\n        \"num_unique_values\": 2,\n        \"samples\": [\n          -1.9415136769311339,\n          0.515062042509356\n        ],\n        \"semantic_type\": \"\",\n        \"description\": \"\"\n      }\n    },\n    {\n      \"column\": \"IsActiveMember\",\n      \"properties\": {\n        \"dtype\": \"number\",\n        \"std\": 0.8945539408788667,\n        \"min\": -0.9833059918764125,\n        \"max\": 1.0169774294690614,\n        \"num_unique_values\": 2,\n        \"samples\": [\n          -0.9833059918764125,\n          1.0169774294690614\n        ],\n        \"semantic_type\": \"\",\n        \"description\": \"\"\n      }\n    },\n    {\n      \"column\": \"EstimatedSalary\",\n      \"properties\": {\n        \"dtype\": \"number\",\n        \"std\": 0.9062877271477139,\n        \"min\": -1.750392349242222,\n        \"max\": 0.5635185540448555,\n        \"num_unique_values\": 5,\n        \"samples\": [\n          -1.750392349242222,\n          0.5635185540448555\n        ],\n        \"semantic_type\": \"\",\n        \"description\": \"\"\n      }\n    },\n    {\n      \"column\": \"Geography_France\",\n      \"properties\": {\n        \"dtype\": \"number\",\n        \"std\": 0.5477225575051662,\n        \"min\": 0.0,\n        \"max\": 1.0,\n        \"num_unique_values\": 2,\n        \"samples\": [\n          1.0,\n          0.0\n        ],\n        \"semantic_type\": \"\",\n        \"description\": \"\"\n      }\n    },\n    {\n      \"column\": \"Geography_Germany\",\n      \"properties\": {\n        \"dtype\": \"number\",\n        \"std\": 0.44721359549995804,\n        \"min\": 0.0,\n        \"max\": 1.0,\n        \"num_unique_values\": 2,\n        \"samples\": [\n          0.0,\n          1.0\n        ],\n        \"semantic_type\": \"\",\n        \"description\": \"\"\n      }\n    },\n    {\n      \"column\": \"Geography_Spain\",\n      \"properties\": {\n        \"dtype\": \"number\",\n        \"std\": 0.447213595499958,\n        \"min\": 0.0,\n        \"max\": 1.0,\n        \"num_unique_values\": 2,\n        \"samples\": [\n          1.0,\n          0.0\n        ],\n        \"semantic_type\": \"\",\n        \"description\": \"\"\n      }\n    },\n    {\n      \"column\": \"Gender_Female\",\n      \"properties\": {\n        \"dtype\": \"number\",\n        \"std\": 0.5477225575051662,\n        \"min\": 0.0,\n        \"max\": 1.0,\n        \"num_unique_values\": 2,\n        \"samples\": [\n          1.0,\n          0.0\n        ],\n        \"semantic_type\": \"\",\n        \"description\": \"\"\n      }\n    },\n    {\n      \"column\": \"Gender_Male\",\n      \"properties\": {\n        \"dtype\": \"number\",\n        \"std\": 0.5477225575051662,\n        \"min\": 0.0,\n        \"max\": 1.0,\n        \"num_unique_values\": 2,\n        \"samples\": [\n          0.0,\n          1.0\n        ],\n        \"semantic_type\": \"\",\n        \"description\": \"\"\n      }\n    }\n  ]\n}"
            }
          },
          "metadata": {}
        }
      ]
    },
    {
      "cell_type": "markdown",
      "source": [
        "**📝 Пояснення кроків**\n",
        "✅ Імпутація пропусків:\n",
        "\n",
        "Числові заповнюємо середнім, бо це дозволяє зберегти центр розподілу.\n",
        "\n",
        "Категоріальні — модою, бо це найчастіше значення, яке природно впишеться.\n",
        "\n",
        "✅ Масштабування числових:\n",
        "\n",
        "Щоб привести всі ознаки до одного масштабу (0 середнє, 1 стандартне відхилення). Це критично для моделей, чутливих до масштабів, наприклад лінійної регресії, логістичної регресії, нейронних мереж.\n",
        "\n",
        "✅ One-Hot Encoding категоріальних:\n",
        "\n",
        "Для перетворення категорій у формат, зрозумілий для моделей (0/1).\n",
        "\n",
        "handle_unknown='ignore' важливо, щоб на валідації не впасти, якщо там з’явиться нова категорія.\n",
        "\n",
        "✅ Видалення Surname, CustomerId, id:\n",
        "\n",
        "Бо вони або ідентифікатори, або слабко пов’язані з відтоком клієнта (Exited), а закодувати їх так, щоб вони додали цінність, ми поки не знаємо.\n",
        "\n",
        "📌 Все це забезпечує коректну та логічну передобробку даних, яка:\n",
        "\n",
        "однаково застосована і до train, і до val,\n",
        "\n",
        "мінімізує ризик data leakage,\n",
        "\n",
        "забезпечує модель добре підготовленими числовими входами."
      ],
      "metadata": {
        "id": "Xnx4BSj3RtDv"
      }
    },
    {
      "cell_type": "markdown",
      "source": [
        "5. Збережіть дані, що містяться в змінних `train_inputs`, `train_targets`, `val_inputs`, `val_targets` на диск в форматі `parquet`. В кінці виведіть список файлів в папці, в яку Ви зберегли файли і перевірте, чи файли збереглись. Вивести список файлів можна з `os.listdir(your_dir)` або `!ls your_dir`"
      ],
      "metadata": {
        "id": "Gk-NVTdyoAtu"
      }
    },
    {
      "cell_type": "code",
      "source": [
        "import os\n",
        "\n",
        "# 📌 Створимо папку для збереження, якщо її ще немає\n",
        "save_dir = '/content/processed_data'\n",
        "os.makedirs(save_dir, exist_ok=True)\n",
        "\n",
        "# 📌 Збережемо дані у форматі parquet\n",
        "train_inputs.to_parquet(f'{save_dir}/train_inputs.parquet', index=False)\n",
        "train_targets.to_frame().to_parquet(f'{save_dir}/train_targets.parquet', index=False)\n",
        "\n",
        "val_inputs.to_parquet(f'{save_dir}/val_inputs.parquet', index=False)\n",
        "val_targets.to_frame().to_parquet(f'{save_dir}/val_targets.parquet', index=False)\n",
        "\n",
        "# 📌 Перевіримо, які файли є у директорії\n",
        "print(\"Список файлів у папці processed_data:\")\n",
        "print(os.listdir(save_dir))"
      ],
      "metadata": {
        "id": "DteIwTkN2hve",
        "colab": {
          "base_uri": "https://localhost:8080/"
        },
        "outputId": "81936743-80da-4268-fa74-f5b75c0dfc56"
      },
      "execution_count": 6,
      "outputs": [
        {
          "output_type": "stream",
          "name": "stdout",
          "text": [
            "Список файлів у папці processed_data:\n",
            "['val_inputs.parquet', 'train_targets.parquet', 'train_inputs.parquet', 'val_targets.parquet']\n"
          ]
        }
      ]
    },
    {
      "cell_type": "markdown",
      "source": [
        "**📝 Пояснення**\n",
        "Ми використовуємо to_parquet, оскільки цей формат:\n",
        "\n",
        "швидше зчитується і займає менше місця, ніж CSV,\n",
        "\n",
        "краще підходить для великих даних і pipeline-ів.\n",
        "\n",
        "Використали to_frame() для train_targets та val_targets, бо це Series, а parquet очікує DataFrame."
      ],
      "metadata": {
        "id": "J1OXiyM6R4BO"
      }
    },
    {
      "cell_type": "markdown",
      "source": [
        "6. З підготовлених вхіжних даних створіть `X_train`, `X_val` набори, які містять лише колонки, які підуть на вхід моделі. Навчіть модель бінарної класифікації з допомогою `LogisticRegression` в `scikit-learn`."
      ],
      "metadata": {
        "id": "D5_3RjSdowGF"
      }
    },
    {
      "cell_type": "markdown",
      "source": [
        "**✅ Кроки:**\n",
        "\n",
        "Створити X_train, X_val — це просто train_inputs_processed, val_inputs_processed.\n",
        "\n",
        "Створити y_train, y_val — зберемо з train_targets, val_targets.\n",
        "\n",
        "Навчити модель LogisticRegression з scikit-learn.\n",
        "\n",
        "Оцінити якість моделі (наприклад, за точністю або ROC AUC)."
      ],
      "metadata": {
        "id": "QSyDD-_eV0vU"
      }
    },
    {
      "cell_type": "code",
      "source": [
        "from sklearn.linear_model import LogisticRegression\n",
        "from sklearn.metrics import accuracy_score, roc_auc_score\n",
        "\n",
        "# 📌 1. Підготуємо вхідні та цільові дані\n",
        "X_train = train_inputs_processed\n",
        "X_val = val_inputs_processed\n",
        "\n",
        "y_train = train_targets\n",
        "y_val = val_targets\n",
        "\n",
        "# 📌 2. Створимо та навчимо модель логістичної регресії\n",
        "model = LogisticRegression(max_iter=1000, random_state=42)\n",
        "model.fit(X_train, y_train)\n",
        "\n",
        "# 📌 3. Передбачимо на валідаційному наборі\n",
        "y_pred = model.predict(X_val)\n",
        "y_proba = model.predict_proba(X_val)[:, 1]  # ймовірності для ROC AUC\n",
        "\n",
        "# 📌 4. Оцінимо якість моделі\n",
        "acc = accuracy_score(y_val, y_pred)\n",
        "roc_auc = roc_auc_score(y_val, y_proba)\n",
        "\n",
        "print(f\"🎯 Accuracy: {acc:.4f}\")\n",
        "print(f\"🎯 ROC AUC Score: {roc_auc:.4f}\")"
      ],
      "metadata": {
        "id": "VZUkPF-e2irB",
        "colab": {
          "base_uri": "https://localhost:8080/"
        },
        "outputId": "0f12f996-e86a-4e0c-a8bb-3e2ac9262f14"
      },
      "execution_count": 7,
      "outputs": [
        {
          "output_type": "stream",
          "name": "stdout",
          "text": [
            "🎯 Accuracy: 0.8697\n",
            "🎯 ROC AUC Score: 0.8797\n"
          ]
        }
      ]
    },
    {
      "cell_type": "markdown",
      "source": [
        "7. Виведіть Confusion matrix, ROC Curve, метрику AUROC та метрику F1 Score для порога класифікації 0.5 для побудованої моделі на тренувальних та валідаційних даних. Що можете сказати про якіст моделі? Вона хороша, погана, задовільна?"
      ],
      "metadata": {
        "id": "37s-m8G2pL4J"
      }
    },
    {
      "cell_type": "markdown",
      "source": [
        "**🔍 План дій:**\n",
        "\n",
        "Побудуємо Confusion Matrix для train і val.\n",
        "\n",
        "Побудуємо ROC-криву (Receiver Operating Characteristic).\n",
        "\n",
        "Обчислимо:\n",
        "\n",
        "F1 Score\n",
        "\n",
        "AUROC (ROC AUC Score)"
      ],
      "metadata": {
        "id": "tskeZo6uWBxM"
      }
    },
    {
      "cell_type": "code",
      "source": [
        "import matplotlib.pyplot as plt\n",
        "from sklearn.metrics import (\n",
        "    confusion_matrix, ConfusionMatrixDisplay,\n",
        "    roc_curve, RocCurveDisplay,\n",
        "    roc_auc_score, f1_score\n",
        ")\n",
        "\n",
        "# 📌 1. Передбачення для train і val\n",
        "y_train_pred = model.predict(X_train)\n",
        "y_val_pred = model.predict(X_val)\n",
        "\n",
        "y_train_proba = model.predict_proba(X_train)[:, 1]\n",
        "y_val_proba = model.predict_proba(X_val)[:, 1]\n",
        "\n",
        "# 📌 2. Confusion matrix\n",
        "fig, axs = plt.subplots(1, 2, figsize=(12, 5))\n",
        "\n",
        "cm_train = confusion_matrix(y_train, y_train_pred)\n",
        "cm_val = confusion_matrix(y_val, y_val_pred)\n",
        "\n",
        "ConfusionMatrixDisplay(cm_train).plot(ax=axs[0], values_format='d')\n",
        "axs[0].set_title(\"Confusion Matrix — Train\")\n",
        "\n",
        "ConfusionMatrixDisplay(cm_val).plot(ax=axs[1], values_format='d')\n",
        "axs[1].set_title(\"Confusion Matrix — Validation\")\n",
        "\n",
        "plt.tight_layout()\n",
        "plt.show()\n",
        "\n",
        "# 📌 3. ROC Curve\n",
        "fpr_train, tpr_train, _ = roc_curve(y_train, y_train_proba)\n",
        "fpr_val, tpr_val, _ = roc_curve(y_val, y_val_proba)\n",
        "\n",
        "plt.figure(figsize=(8, 6))\n",
        "plt.plot(fpr_train, tpr_train, label=f'Train ROC (AUC = {roc_auc_score(y_train, y_train_proba):.3f})')\n",
        "plt.plot(fpr_val, tpr_val, label=f'Val ROC (AUC = {roc_auc_score(y_val, y_val_proba):.3f})')\n",
        "plt.plot([0, 1], [0, 1], linestyle='--', color='gray')\n",
        "plt.xlabel('False Positive Rate')\n",
        "plt.ylabel('True Positive Rate')\n",
        "plt.title('ROC Curve')\n",
        "plt.legend()\n",
        "plt.grid(True)\n",
        "plt.show()\n",
        "\n",
        "# 📌 4. Метрики\n",
        "print(\"📊 Метрики для TRAIN:\")\n",
        "print(f\"F1 Score: {f1_score(y_train, y_train_pred):.4f}\")\n",
        "print(f\"ROC AUC: {roc_auc_score(y_train, y_train_proba):.4f}\")\n",
        "\n",
        "print(\"\\n📊 Метрики для VALIDATION:\")\n",
        "print(f\"F1 Score: {f1_score(y_val, y_val_pred):.4f}\")\n",
        "print(f\"ROC AUC: {roc_auc_score(y_val, y_val_proba):.4f}\")"
      ],
      "metadata": {
        "id": "I02ENkyJ2jhn",
        "colab": {
          "base_uri": "https://localhost:8080/",
          "height": 1000
        },
        "outputId": "05da9717-ad13-44c7-b182-a3e5506cc8fe"
      },
      "execution_count": 8,
      "outputs": [
        {
          "output_type": "display_data",
          "data": {
            "text/plain": [
              "<Figure size 1200x500 with 4 Axes>"
            ],
            "image/png": "[encoded data removed]"
          },
          "metadata": {}
        },
        {
          "output_type": "display_data",
          "data": {
            "text/plain": [
              "<Figure size 800x600 with 1 Axes>"
            ],
            "image/png": "[encoded data removed]"
          },
          "metadata": {}
        },
        {
          "output_type": "stream",
          "name": "stdout",
          "text": [
            "📊 Метрики для TRAIN:\n",
            "F1 Score: 0.6399\n",
            "ROC AUC: 0.8825\n",
            "\n",
            "📊 Метрики для VALIDATION:\n",
            "F1 Score: 0.6390\n",
            "ROC AUC: 0.8797\n"
          ]
        }
      ]
    },
    {
      "cell_type": "markdown",
      "source": [
        "**📝 Висновок про якість моделі:**\n",
        "\n",
        "Щоб зробити висновок, звертаємо увагу на такі речі:\n",
        "\n",
        "AUROC ~ 0.5 — модель не краще випадкового вгадування.\n",
        "\n",
        "AUROC ~ 0.7-0.8 — задовільна модель.\n",
        "\n",
        "AUROC > 0.8 — хороша модель.\n",
        "\n",
        "F1 Score — корисний, якщо класи незбалансовані: показує баланс між precision і recall.\n",
        "\n",
        "Confusion Matrix — вкаже, які саме помилки часто трапляються: хибні спрацьовування чи пропуски."
      ],
      "metadata": {
        "id": "gns8Wr6oWM8K"
      }
    },
    {
      "cell_type": "markdown",
      "source": [
        "8. Створіть передбачення моделі, яка передбачає завжди мажоритарний клас (той, якого більше в тренувальних даних). Порахуйте Accuracy на тренувальних та валідаційних даних для цієї моделі і тої, що ми натренували в п.6. Зробіть заключення про якість нашої моделі: якість хороша, погана, задовільна?"
      ],
      "metadata": {
        "id": "3aLarTs4rWIJ"
      }
    },
    {
      "cell_type": "markdown",
      "source": [
        "**✅ Кроки:**\n",
        "\n",
        "Знайти мажоритарний клас у y_train.\n",
        "\n",
        "Створити передбачення, де всі значення — мажоритарний клас.\n",
        "\n",
        "Порахувати accuracy для базової моделі (dummy).\n",
        "\n",
        "Порівняти з accuracy нашої логістичної моделі.\n",
        "\n",
        "Зробити висновок."
      ],
      "metadata": {
        "id": "-fHxT8XtWR_l"
      }
    },
    {
      "cell_type": "code",
      "source": [
        "from sklearn.metrics import accuracy_score\n",
        "\n",
        "# 📌 1. Визначаємо мажоритарний клас у тренувальній вибірці\n",
        "majority_class = y_train.value_counts().idxmax()\n",
        "print(f\"Мажоритарний клас: {majority_class}\")\n",
        "\n",
        "# 📌 2. Передбачення \"наївної\" моделі\n",
        "y_train_dummy = [majority_class] * len(y_train)\n",
        "y_val_dummy = [majority_class] * len(y_val)\n",
        "\n",
        "# 📌 3. Accuracy на \"наївній\" моделі\n",
        "acc_dummy_train = accuracy_score(y_train, y_train_dummy)\n",
        "acc_dummy_val = accuracy_score(y_val, y_val_dummy)\n",
        "\n",
        "print(\"\\n📊 Accuracy для наївної моделі (мажоритарний клас):\")\n",
        "print(f\"Train Accuracy: {acc_dummy_train:.4f}\")\n",
        "print(f\"Val Accuracy:   {acc_dummy_val:.4f}\")\n",
        "\n",
        "# 📌 4. Accuracy для логістичної моделі\n",
        "acc_model_train = accuracy_score(y_train, y_train_pred)\n",
        "acc_model_val = accuracy_score(y_val, y_val_pred)\n",
        "\n",
        "print(\"\\n📊 Accuracy для нашої логістичної моделі:\")\n",
        "print(f\"Train Accuracy: {acc_model_train:.4f}\")\n",
        "print(f\"Val Accuracy:   {acc_model_val:.4f}\")"
      ],
      "metadata": {
        "id": "0szMoWzd2k_Y",
        "colab": {
          "base_uri": "https://localhost:8080/"
        },
        "outputId": "bd29f01e-f5b0-43fb-8989-fc77594dbc1a"
      },
      "execution_count": 9,
      "outputs": [
        {
          "output_type": "stream",
          "name": "stdout",
          "text": [
            "Мажоритарний клас: 0.0\n",
            "\n",
            "📊 Accuracy для наївної моделі (мажоритарний клас):\n",
            "Train Accuracy: 0.7965\n",
            "Val Accuracy:   0.7967\n",
            "\n",
            "📊 Accuracy для нашої логістичної моделі:\n",
            "Train Accuracy: 0.8745\n",
            "Val Accuracy:   0.8697\n"
          ]
        }
      ]
    },
    {
      "cell_type": "markdown",
      "source": [
        "**📝 Висновок:**\n",
        "\n",
        "Що вважати \"хорошою\" моделлю?\n",
        "\n",
        "Якщо логістична модель тільки трохи краща за наївну — це поганий результат: модель нічому не навчилася.\n",
        "\n",
        "Якщо логістична модель суттєво краща, навіть на 5–10% — це вже задовільно/добре, залежно від задачі.\n",
        "\n",
        "Якщо AUROC моделі значно вищий, ніж 0.5, — це також сильна перевага, навіть якщо accuracy схожий.\n",
        "\n",
        "📌 Наприклад:\n",
        "\n",
        "Наївна модель: accuracy 0.80\n",
        "\n",
        "Наша модель: accuracy 0.83, AUROC 0.78 → це добре\n",
        "\n",
        "Наша модель: accuracy 0.81, AUROC 0.52 → модель слабка"
      ],
      "metadata": {
        "id": "__AK3QqzWZ9O"
      }
    },
    {
      "cell_type": "markdown",
      "source": [
        "9. Збережіть модель і інші обʼєкти, які ви хотіли б зберегти, з використанням бібліотеки joblib в файл `log_reg.joblib`. Потім завантажте модель з файлу в змінну `model_2` (цим ми тренуємось завантажувати модель з файлу на майбутнє)."
      ],
      "metadata": {
        "id": "l_3QF-hAuFgA"
      }
    },
    {
      "cell_type": "markdown",
      "source": [
        "**✅ План дій:**\n",
        "\n",
        "Зберегти логістичну модель (model) у файл log_reg.joblib.\n",
        "\n",
        "За потреби — можна також зберегти preprocessor, щоб відтворити повний pipeline.\n",
        "\n",
        "Завантажити модель з файлу в змінну model_2."
      ],
      "metadata": {
        "id": "Ra6X0DHVWsXM"
      }
    },
    {
      "cell_type": "code",
      "source": [
        "import joblib\n",
        "\n",
        "# 📌 1. Зберігаємо логістичну модель\n",
        "joblib.dump(model, '/content/log_reg.joblib')\n",
        "\n",
        "# 📌 (опціонально) Зберігаємо також препроцесор, якщо буде використовуватись повторно\n",
        "# joblib.dump(preprocessor, '/content/preprocessor.joblib')\n",
        "\n",
        "# 📌 2. Завантажуємо модель з файлу\n",
        "model_2 = joblib.load('/content/log_reg.joblib')\n",
        "\n",
        "# 📌 Перевіримо, що вона працює\n",
        "sample_preds = model_2.predict(X_val[:5])\n",
        "print(\"Передбачення завантаженої моделі для перших 5 зразків validation:\")\n",
        "print(sample_preds)"
      ],
      "metadata": {
        "id": "FpeQ2qLm2oBU",
        "colab": {
          "base_uri": "https://localhost:8080/"
        },
        "outputId": "fc4a58a9-d31e-4137-a8e1-e2136f84dc17"
      },
      "execution_count": 10,
      "outputs": [
        {
          "output_type": "stream",
          "name": "stdout",
          "text": [
            "Передбачення завантаженої моделі для перших 5 зразків validation:\n",
            "[0. 0. 0. 0. 0.]\n"
          ]
        }
      ]
    },
    {
      "cell_type": "markdown",
      "source": [
        "**📝 Висновок:**\n",
        "\n",
        "✅ Ми зберегли модель log_reg.joblib.\n",
        "\n",
        "✅ Завантажили її в model_2.\n",
        "\n",
        "✅ Переконались, що вона працює (робить передбачення на X_val)."
      ],
      "metadata": {
        "id": "ynnEz4cGWyEs"
      }
    },
    {
      "cell_type": "markdown",
      "source": [
        "10. Ознайомтесь з роботою наведеної функції `predict_raw_df`. Ця функція робить підготовку даних (масштабування числових колонок і кодування категоріальних) і виводить ймовірності належності до класу 1 для кожного рядка в наданому наборі.\n",
        "\n",
        "Доповніть або внесіть зміни у функцію з врахуванням вашого препроцесингу даних."
      ],
      "metadata": {
        "id": "E_b1hrHUvQpb"
      }
    },
    {
      "cell_type": "code",
      "source": [
        "import warnings\n",
        "warnings.filterwarnings(\"ignore\")\n",
        "\n",
        "def predict_raw_df(scaler, encoder, numeric_cols, categorical_cols, input_df: pd.DataFrame):\n",
        "    input_df[numeric_cols] = scaler.transform(input_df[numeric_cols])\n",
        "    input_df[encoded_cols] = encoder.transform(input_df[categorical_cols])\n",
        "    X_input = input_df[numeric_cols + encoded_cols]\n",
        "    prob = model.predict_proba(X_input)[:,1]\n",
        "    return prob"
      ],
      "metadata": {
        "id": "n8bLQDa3viLC"
      },
      "execution_count": 11,
      "outputs": []
    },
    {
      "cell_type": "code",
      "source": [
        "predict_raw_df(scaler, encoder, numeric_cols, categorical_cols, raw_df[:5])"
      ],
      "metadata": {
        "id": "n3tx_nQ0vw7W",
        "collapsed": true,
        "colab": {
          "base_uri": "https://localhost:8080/",
          "height": 146
        },
        "outputId": "3cc2b723-f8e4-4ddd-b2f1-076fd807263b"
      },
      "execution_count": 12,
      "outputs": [
        {
          "output_type": "error",
          "ename": "NameError",
          "evalue": "name 'scaler' is not defined",
          "traceback": [
            "\u001b[0;31m---------------------------------------------------------------------------\u001b[0m",
            "\u001b[0;31mNameError\u001b[0m                                 Traceback (most recent call last)",
            "\u001b[0;32m/tmp/ipython-input-12-1268118253.py\u001b[0m in \u001b[0;36m<cell line: 0>\u001b[0;34m()\u001b[0m\n\u001b[0;32m----> 1\u001b[0;31m \u001b[0mpredict_raw_df\u001b[0m\u001b[0;34m(\u001b[0m\u001b[0mscaler\u001b[0m\u001b[0;34m,\u001b[0m \u001b[0mencoder\u001b[0m\u001b[0;34m,\u001b[0m \u001b[0mnumeric_cols\u001b[0m\u001b[0;34m,\u001b[0m \u001b[0mcategorical_cols\u001b[0m\u001b[0;34m,\u001b[0m \u001b[0mraw_df\u001b[0m\u001b[0;34m[\u001b[0m\u001b[0;34m:\u001b[0m\u001b[0;36m5\u001b[0m\u001b[0;34m]\u001b[0m\u001b[0;34m)\u001b[0m\u001b[0;34m\u001b[0m\u001b[0;34m\u001b[0m\u001b[0m\n\u001b[0m",
            "\u001b[0;31mNameError\u001b[0m: name 'scaler' is not defined"
          ]
        }
      ]
    },
    {
      "cell_type": "markdown",
      "source": [
        "**✅ Виправлена функція:**"
      ],
      "metadata": {
        "id": "7ZV27o-BXTXQ"
      }
    },
    {
      "cell_type": "code",
      "source": [
        "import warnings\n",
        "warnings.filterwarnings(\"ignore\")\n",
        "import pandas as pd\n",
        "\n",
        "def predict_raw_df(scaler, encoder, numeric_cols, categorical_cols, model, input_df: pd.DataFrame):\n",
        "    # Створюємо копію, щоб не змінювати оригінал\n",
        "    df = input_df.copy()\n",
        "\n",
        "    # Масштабуємо числові колонки\n",
        "    df[numeric_cols] = scaler.transform(df[numeric_cols])\n",
        "\n",
        "    # Кодуємо категоріальні колонки\n",
        "    encoded_array = encoder.transform(df[categorical_cols])  # numpy array\n",
        "    encoded_cols = encoder.get_feature_names_out(categorical_cols)  # імена колонок\n",
        "\n",
        "    # Створюємо DataFrame з закодованими колонками\n",
        "    encoded_df = pd.DataFrame(encoded_array, columns=encoded_cols, index=df.index)\n",
        "\n",
        "    # Об’єднуємо масштабовані числові та закодовані категоріальні\n",
        "    X_input = pd.concat([df[numeric_cols], encoded_df], axis=1)\n",
        "\n",
        "    # Повертаємо ймовірності класу 1\n",
        "    prob = model.predict_proba(X_input)[:, 1]\n",
        "    return prob"
      ],
      "metadata": {
        "id": "E25YIRIIXQYI"
      },
      "execution_count": 14,
      "outputs": []
    },
    {
      "cell_type": "markdown",
      "source": [
        "**🧪 Приклад використання:**"
      ],
      "metadata": {
        "id": "8A775na7XgFA"
      }
    },
    {
      "cell_type": "code",
      "source": [
        "# Припустимо, що у нас вже є:\n",
        "# - trained scaler (StandardScaler)\n",
        "# - trained encoder (OneHotEncoder)\n",
        "# - trained model (LogisticRegression)\n",
        "# - numeric_cols, categorical_cols\n",
        "\n",
        "probas = predict_raw_df(scaler, encoder, numeric_cols, categorical_cols, model, raw_df[:5])\n",
        "print(probas)"
      ],
      "metadata": {
        "colab": {
          "base_uri": "https://localhost:8080/",
          "height": 201
        },
        "id": "jFMlT-a7Xe-z",
        "outputId": "1978ad77-be75-4f47-d17d-fb4612b79d0f"
      },
      "execution_count": 15,
      "outputs": [
        {
          "output_type": "error",
          "ename": "NameError",
          "evalue": "name 'scaler' is not defined",
          "traceback": [
            "\u001b[0;31m---------------------------------------------------------------------------\u001b[0m",
            "\u001b[0;31mNameError\u001b[0m                                 Traceback (most recent call last)",
            "\u001b[0;32m/tmp/ipython-input-15-2949211133.py\u001b[0m in \u001b[0;36m<cell line: 0>\u001b[0;34m()\u001b[0m\n\u001b[1;32m      5\u001b[0m \u001b[0;31m# - numeric_cols, categorical_cols\u001b[0m\u001b[0;34m\u001b[0m\u001b[0;34m\u001b[0m\u001b[0m\n\u001b[1;32m      6\u001b[0m \u001b[0;34m\u001b[0m\u001b[0m\n\u001b[0;32m----> 7\u001b[0;31m \u001b[0mprobas\u001b[0m \u001b[0;34m=\u001b[0m \u001b[0mpredict_raw_df\u001b[0m\u001b[0;34m(\u001b[0m\u001b[0mscaler\u001b[0m\u001b[0;34m,\u001b[0m \u001b[0mencoder\u001b[0m\u001b[0;34m,\u001b[0m \u001b[0mnumeric_cols\u001b[0m\u001b[0;34m,\u001b[0m \u001b[0mcategorical_cols\u001b[0m\u001b[0;34m,\u001b[0m \u001b[0mmodel\u001b[0m\u001b[0;34m,\u001b[0m \u001b[0mraw_df\u001b[0m\u001b[0;34m[\u001b[0m\u001b[0;34m:\u001b[0m\u001b[0;36m5\u001b[0m\u001b[0;34m]\u001b[0m\u001b[0;34m)\u001b[0m\u001b[0;34m\u001b[0m\u001b[0;34m\u001b[0m\u001b[0m\n\u001b[0m\u001b[1;32m      8\u001b[0m \u001b[0mprint\u001b[0m\u001b[0;34m(\u001b[0m\u001b[0mprobas\u001b[0m\u001b[0;34m)\u001b[0m\u001b[0;34m\u001b[0m\u001b[0;34m\u001b[0m\u001b[0m\n",
            "\u001b[0;31mNameError\u001b[0m: name 'scaler' is not defined"
          ]
        }
      ]
    },
    {
      "cell_type": "markdown",
      "source": [
        "Використати preprocessor напряму\n",
        "Так код буде набагато чистішим, бо scaler і encoder не треба витягати вручну:\n",
        "\n",
        "**✔️ Створення адаптованої функції:**"
      ],
      "metadata": {
        "id": "B_BUSnB6YGgn"
      }
    },
    {
      "cell_type": "code",
      "source": [
        "def predict_raw_df_preprocessor(preprocessor, model, input_df: pd.DataFrame):\n",
        "    df = input_df.copy()\n",
        "\n",
        "    # Видаляємо колонки, які ми не використовували при тренуванні\n",
        "    drop_cols = ['id', 'CustomerId', 'Surname']\n",
        "    df = df.drop(columns=[col for col in drop_cols if col in df.columns])\n",
        "\n",
        "    # Застосовуємо той самий препроцесор\n",
        "    processed = preprocessor.transform(df)\n",
        "\n",
        "    # Передбачення\n",
        "    prob = model.predict_proba(processed)[:, 1]\n",
        "    return prob"
      ],
      "metadata": {
        "id": "V3QbqE3kYNHa"
      },
      "execution_count": 16,
      "outputs": []
    },
    {
      "cell_type": "markdown",
      "source": [
        "**✔️ Використання:**"
      ],
      "metadata": {
        "id": "ESnBPudvYSuB"
      }
    },
    {
      "cell_type": "code",
      "source": [
        "probas = predict_raw_df_preprocessor(preprocessor, model, df[:5])\n",
        "print(probas)"
      ],
      "metadata": {
        "colab": {
          "base_uri": "https://localhost:8080/"
        },
        "id": "xEpVZJWlYVZW",
        "outputId": "d8cce8d5-c166-4872-d79b-a018166ba38f"
      },
      "execution_count": 17,
      "outputs": [
        {
          "output_type": "stream",
          "name": "stdout",
          "text": [
            "[0.00564915 0.03331584 0.38132823 0.38028102 0.97920024]\n"
          ]
        }
      ]
    },
    {
      "cell_type": "markdown",
      "source": [
        "**📝 Висновок**\n",
        "\n",
        "Ми реалізували функцію predict_raw_df_preprocessor, яка приймає на вхід сирий DataFrame, обробляє його за допомогою збереженого preprocessor (що включає масштабування числових ознак, імпутацію пропущених значень та кодування категоріальних змінних), і використовує навчену модель LogisticRegression для отримання ймовірностей належності до класу 1.\n",
        "\n",
        "Це дозволяє:\n",
        "\n",
        "🔄 Застосовувати одну й ту саму передобробку, що була використана під час навчання моделі;\n",
        "\n",
        "✅ Забезпечити узгодженість результатів при передбаченні на нових/сирих даних;\n",
        "\n",
        "📦 Повторно використовувати модель без потреби перевчання або дублювання коду препроцесингу.\n",
        "\n",
        "Таким чином, модель готова до практичного використання — наприклад, в продакшені, в API або для оцінки нових клієнтів."
      ],
      "metadata": {
        "id": "GfjQIrc8Yhqv"
      }
    },
    {
      "cell_type": "markdown",
      "source": [
        "**🛠 Що треба виправити:**\n",
        "\n",
        "Функція зараз передбачає, що encoder.transform(...) повертає щось, що можна присвоїти input_df[encoded_cols] — це не так, бо OneHotEncoder повертає numpy.ndarray.\n",
        "\n",
        "Змінна encoded_cols не визначена.\n",
        "\n",
        "input_df треба копіювати, щоб не змінювати оригінал."
      ],
      "metadata": {
        "id": "uBwFfxwrXMKu"
      }
    },
    {
      "cell_type": "markdown",
      "source": [
        "11. Зчитайте дані з `test.csv` в змінну `test_raw_df`. Зробіть передбачення для кожного рядка даних з функцією з попереднього завдання і запишіть результат в нову колонку `Exited` в датафреймі `test_raw_df`."
      ],
      "metadata": {
        "id": "W8rRDFfExV40"
      }
    },
    {
      "cell_type": "code",
      "source": [
        "# 📌 1. Зчитування test.csv\n",
        "test_raw_df = pd.read_csv('/content/test.csv')  # змінити шлях за потреби\n",
        "\n",
        "# 📌 2. Застосування моделі до сирих даних\n",
        "predicted_proba = predict_raw_df_preprocessor(preprocessor, model, test_raw_df)\n",
        "\n",
        "# 📌 3. Запис у колонку 'Exited'\n",
        "test_raw_df['Exited'] = predicted_proba\n",
        "\n",
        "# 📌 Перевіримо результат\n",
        "print(test_raw_df[['Exited']].head())"
      ],
      "metadata": {
        "id": "LyWEdGWx2u6d",
        "colab": {
          "base_uri": "https://localhost:8080/"
        },
        "outputId": "d1a09dc4-3e9a-4ac0-9b9f-9767a1addb1d"
      },
      "execution_count": 18,
      "outputs": [
        {
          "output_type": "stream",
          "name": "stdout",
          "text": [
            "     Exited\n",
            "0  0.069305\n",
            "1  0.033363\n",
            "2  0.153864\n",
            "3  0.198330\n",
            "4  0.054045\n"
          ]
        }
      ]
    },
    {
      "cell_type": "markdown",
      "source": [
        "**📝 Примітка:**\n",
        "\n",
        "Колонка Exited тут міститиме ймовірності (float), а не 0/1.\n",
        "\n",
        "Якщо потрібно округлити до класів (0 або 1), можна додати:"
      ],
      "metadata": {
        "id": "yg9vqR3RZUVC"
      }
    },
    {
      "cell_type": "code",
      "source": [
        "test_raw_df['Exited'] = (predicted_proba >= 0.5).astype(int)"
      ],
      "metadata": {
        "id": "0_d3WHlwZX7F"
      },
      "execution_count": 19,
      "outputs": []
    },
    {
      "cell_type": "markdown",
      "source": [
        "12. Зчитайте файл 'sample_submission.csv' і зповніть колонку `Exited` передбаченими вашою моделлю значеннями для кожного відповідного `id` клієнта.\n",
        "Виведіть перші 5 рядків фінального датасету, збережіть результат в файл `submission_log_reg.csv` (УВАГА! не запишіть випадково ще індекси рядків!) і здайте цей файл на Kaggle зі свого профіля натиснувши `Submit Prediction`."
      ],
      "metadata": {
        "id": "ZHZciHxEx7IZ"
      }
    },
    {
      "cell_type": "code",
      "source": [
        "# 1. Зчитуємо шаблон submission\n",
        "submission_df = pd.read_csv('/content/sample_submission.csv')  # змінити шлях, якщо треба\n",
        "\n",
        "# 2. Зчитуємо тестові дані, якщо ще не зчитані\n",
        "test_raw_df = pd.read_csv('/content/test.csv')  # або використовуй вже зчитаний раніше\n",
        "\n",
        "# 3. Отримуємо передбачення ймовірності → клас\n",
        "predicted_proba = predict_raw_df_preprocessor(preprocessor, model, test_raw_df)\n",
        "predicted_classes = (predicted_proba >= 0.5).astype(int)\n",
        "\n",
        "# 4. Вставляємо передбачення у колонку Exited\n",
        "submission_df['Exited'] = predicted_classes\n",
        "\n",
        "# 5. Перевіряємо перші 5 рядків\n",
        "print(submission_df.head())\n",
        "\n",
        "# 6. Зберігаємо у файл без індексу\n",
        "submission_df.to_csv('/content/submission_log_reg.csv', index=False)"
      ],
      "metadata": {
        "id": "HjkKnrll2wNA",
        "colab": {
          "base_uri": "https://localhost:8080/"
        },
        "outputId": "3babb771-cea9-4a08-845e-f4b7a405ec12"
      },
      "execution_count": 20,
      "outputs": [
        {
          "output_type": "stream",
          "name": "stdout",
          "text": [
            "      id  Exited\n",
            "0  15000       0\n",
            "1  15001       0\n",
            "2  15002       0\n",
            "3  15003       0\n",
            "4  15004       0\n"
          ]
        }
      ]
    }
  ]
}